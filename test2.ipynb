{
 "cells": [
  {
   "cell_type": "code",
   "execution_count": 40,
   "metadata": {},
   "outputs": [
    {
     "name": "stdout",
     "output_type": "stream",
     "text": [
      "5\n",
      "[array([0.        , 0.64274399]), array([20.        ,  0.27000401]), array([40.        ,  0.30850891]), array([60.        ,  0.57043909]), array([80.        ,  0.19148676]), array([99.        ,  0.93447535])]\n"
     ]
    }
   ],
   "source": [
    "x = np.random.randint(4, 7)\n",
    "points = gen_random_interval(100, x)\n",
    "\n",
    "print(x)\n",
    "print(points)"
   ]
  },
  {
   "cell_type": "code",
   "execution_count": 41,
   "metadata": {},
   "outputs": [],
   "source": [
    "#cov_chart = gen_coverage(100, x)\n",
    "#print(cov_chart)"
   ]
  },
  {
   "cell_type": "code",
   "execution_count": 42,
   "metadata": {},
   "outputs": [],
   "source": [
    "from scipy.stats import pareto, beta"
   ]
  },
  {
   "cell_type": "code",
   "execution_count": 43,
   "metadata": {},
   "outputs": [
    {
     "name": "stdout",
     "output_type": "stream",
     "text": [
      "[0.07037646 0.28630927 0.62190066 0.36796346 0.26904201 0.55634873\n",
      " 0.85673487 0.5919612  0.48989804 0.0256539 ]\n"
     ]
    }
   ],
   "source": [
    "b = beta.rvs(1.23, 1.23, size=10)\n",
    "print(b)"
   ]
  },
  {
   "cell_type": "code",
   "execution_count": 44,
   "metadata": {},
   "outputs": [
    {
     "name": "stdout",
     "output_type": "stream",
     "text": [
      "[12.86916283  1.07628591  1.46256908  1.78893905  1.32548183  1.37369023\n",
      "  1.07174353  5.77842786  3.55159826  1.26616705]\n"
     ]
    }
   ],
   "source": [
    "r = pareto.rvs(1, size=10)\n",
    "print(r)"
   ]
  },
  {
   "cell_type": "code",
   "execution_count": 45,
   "metadata": {},
   "outputs": [
    {
     "name": "stdout",
     "output_type": "stream",
     "text": [
      "['abc', 'def', 'ghijk']\n"
     ]
    }
   ],
   "source": [
    "a = 'abcdefghijk'\n",
    "b = list(map(''.join, zip(*[iter(a)]*3)))\n",
    "r = len(a) % 3\n",
    "\n",
    "extra = a[len(a) - r:]\n",
    "b[-1] = b[-1] + extra\n",
    "print(b)"
   ]
  },
  {
   "cell_type": "code",
   "execution_count": 46,
   "metadata": {},
   "outputs": [
    {
     "name": "stdout",
     "output_type": "stream",
     "text": [
      "[0, 40, 99]\n"
     ]
    }
   ],
   "source": [
    "bins = 100\n",
    "interval = 40\n",
    "x = [i for i in range(0, bins, interval)]\n",
    "if x[-1] != bins - 1:\n",
    "    if bins - x[-1] > interval/2:\n",
    "        x.append(bins-1)\n",
    "    else:\n",
    "        x[-1] = bins-1\n",
    "print(x)"
   ]
  },
  {
   "cell_type": "code",
   "execution_count": 47,
   "metadata": {},
   "outputs": [
    {
     "name": "stdout",
     "output_type": "stream",
     "text": [
      "[0.35138487 0.47326645 0.37009733 0.2263408  0.38318567 0.81953747\n",
      " 0.47690536 0.90807767 0.19551994 0.44341428]\n"
     ]
    }
   ],
   "source": [
    "a = np.random.beta(1.5, 1.5, 10)\n",
    "print(a)"
   ]
  },
  {
   "cell_type": "code",
   "execution_count": 1,
   "metadata": {},
   "outputs": [],
   "source": [
    "from reads import *"
   ]
  },
  {
   "cell_type": "code",
   "execution_count": 15,
   "metadata": {},
   "outputs": [
    {
     "name": "stdout",
     "output_type": "stream",
     "text": [
      "[0.7262662261492489, 0.6742482740862352, 0.6231897048310265, 0.5740499011914268, 0.5277882459752417, 0.4853641219902754, 0.4477369120443328, 0.41586599894521853, 0.3907107655007376, 0.3732305945186944, 0.3643848688068938, 0.3647008890510041, 0.3729776274481472, 0.3875819740733085, 0.40688081900147377, 0.4292410523076282, 0.4530295640667575, 0.476613244353847, 0.4983589832438823, 0.5166336708118487, 0.5298041971327319, 0.5368030937499032, 0.5388254580802787, 0.5376320290091596, 0.5349835454218482, 0.5326407462036459, 0.5323643702398546, 0.535915156415776, 0.545053843616712, 0.5615411707279643, 0.5871378766348345, 0.6227574144407211, 0.6659240941214082, 0.7133149398707764, 0.7616069758827069, 0.8074772263510801, 0.847602715469777, 0.8786604674326781, 0.8973275064336645, 0.9002808566666167, 0.8841975423254155, 0.8470921704324043, 0.792329679323775, 0.7246125901641822, 0.6486434241182815, 0.5691247023507268, 0.4907589460261731, 0.41824867630927526, 0.35629641436468784, 0.30960468135706554, 0.28287599845106315, 0.2793632832269562, 0.29652103892750353, 0.3303541652110848, 0.3768675617360798, 0.43206612816086826, 0.4919547641438299, 0.5525383693433442, 0.6098218434177912, 0.6598100860255504, 0.6985079968250014, 0.7228723838248013, 0.7336676884347153, 0.7326102604147852, 0.7214164495250537, 0.701802605525563, 0.6754850781763553, 0.6441802172374729, 0.6096043724689583, 0.5734738936308534, 0.5375051304832007, 0.5032156936648031, 0.47132823732950535, 0.44236667650991307, 0.4168549262386319, 0.3953169015482674, 0.37827651747142504, 0.36625768904071043, 0.3597843312887291, 0.35938035924808653, 0.3655696879513883, 0.37857928634645516, 0.39744833904196847, 0.4209190845618247, 0.4477337614299206, 0.47663460817015246, 0.5063638633064171, 0.535663765362611, 0.5632765528626307, 0.5879444643303725, 0.6084097382897333, 0.6251025163752796, 0.6358030870704453, 0.6412604762990276, 0.6422237099848243, 0.6394418140516329, 0.633663814423251, 0.6256387370234764, 0.6161156077761065, 0.6058434526049391]\n"
     ]
    }
   ],
   "source": [
    "cov_chart = gen_coverage(100, 10, 1.5, 1.5)\n",
    "print(cov_chart)"
   ]
  },
  {
   "cell_type": "code",
   "execution_count": 3,
   "metadata": {},
   "outputs": [],
   "source": [
    "import matplotlib.pyplot as plt"
   ]
  },
  {
   "cell_type": "code",
   "execution_count": 16,
   "metadata": {},
   "outputs": [
    {
     "data": {
      "text/plain": [
       "(0.0, 1.0)"
      ]
     },
     "execution_count": 16,
     "metadata": {},
     "output_type": "execute_result"
    },
    {
     "data": {
      "image/png": "[encoded data removed]",
      "text/plain": [
       "<Figure size 432x288 with 1 Axes>"
      ]
     },
     "metadata": {
      "needs_background": "light"
     },
     "output_type": "display_data"
    }
   ],
   "source": [
    "plt.plot([i for i in range(100)], cov_chart)\n",
    "plt.ylim(0,1)"
   ]
  },
  {
   "cell_type": "code",
   "execution_count": 18,
   "metadata": {},
   "outputs": [
    {
     "name": "stdout",
     "output_type": "stream",
     "text": [
      "[287 243 246 248 256 250 250 254 271 238 278 239 212 247 286 259 254 258\n",
      " 249 255 243 262 244 244 262 247 244 237 240 230 261 255 274 263 278 251\n",
      " 245 249 242 261 253 236 246 244 302 229 248 246 253 258 221 262 253 244\n",
      " 261 257 244 283 232 267 256 269 259 261 283 236 283 245 257 264 279 255\n",
      " 249 266 273 232 252 242 206 234 241 250 259 230 237 217 243 280 202 255\n",
      " 244 256 286 236 231 252 240 248 289 266]\n",
      "Counter({244: 7, 255: 4, 261: 4, 243: 3, 246: 3, 248: 3, 256: 3, 250: 3, 259: 3, 249: 3, 262: 3, 253: 3, 236: 3, 283: 3, 254: 2, 278: 2, 247: 2, 286: 2, 258: 2, 237: 2, 240: 2, 230: 2, 245: 2, 242: 2, 257: 2, 232: 2, 266: 2, 252: 2, 287: 1, 271: 1, 238: 1, 239: 1, 212: 1, 274: 1, 263: 1, 251: 1, 302: 1, 229: 1, 221: 1, 267: 1, 269: 1, 264: 1, 279: 1, 273: 1, 206: 1, 234: 1, 241: 1, 217: 1, 280: 1, 202: 1, 231: 1, 289: 1})\n"
     ]
    }
   ],
   "source": [
    "a = np.random.poisson(250, 100)\n",
    "print(a)\n",
    "from collections import Counter\n",
    "c = Counter(a)\n",
    "print(c)"
   ]
  },
  {
   "cell_type": "code",
   "execution_count": 9,
   "metadata": {},
   "outputs": [],
   "source": [
    "from scipy.stats import beta\n",
    "from scipy.optimize import newton_krylov\n",
    "from scipy.optimize.nonlin import NoConvergence\n",
    "import numpy as np"
   ]
  },
  {
   "cell_type": "code",
   "execution_count": 23,
   "metadata": {},
   "outputs": [],
   "source": [
    "from Bio import SeqIO\n",
    "from itertools import zip_longest\n",
    "#fasta_sequences = SeqIO.parse(open('test_out3.bwa.read2.fastq.gz'), 'fasta')"
   ]
  },
  {
   "cell_type": "code",
   "execution_count": 21,
   "metadata": {},
   "outputs": [],
   "source": [
    "def parse(input_fastq):\n",
    "    with open(input_fastq, 'r') as input_handle:\n",
    "        fastq_iterator = (l.rstrip() for l in input_handle)\n",
    "        for record in zip_longest(*[fastq_iterator]*4):\n",
    "            yield record"
   ]
  },
  {
   "cell_type": "code",
   "execution_count": 42,
   "metadata": {},
   "outputs": [],
   "source": [
    "fasta_sequences = SeqIO.parse('/Users/samsonweiner/Desktop/Hippo/reference/hg38.fa', 'fasta')"
   ]
  },
  {
   "cell_type": "code",
   "execution_count": 43,
   "metadata": {},
   "outputs": [
    {
     "name": "stdout",
     "output_type": "stream",
     "text": [
      "ID: chr1\n",
      "Name: chr1\n",
      "Description: chr1\n",
      "Number of features: 0\n",
      "Seq('NNNNNNNNNNNNNNNNNNNNNNNNNNNNNNNNNNNNNNNNNNNNNNNNNNNNNN...NNN')\n"
     ]
    }
   ],
   "source": [
    "record = next(fasta_sequences)\n",
    "print(record)"
   ]
  },
  {
   "cell_type": "code",
   "execution_count": 2,
   "metadata": {},
   "outputs": [],
   "source": [
    "from sequence import *"
   ]
  },
  {
   "cell_type": "code",
   "execution_count": 14,
   "metadata": {},
   "outputs": [],
   "source": [
    "ref, chrom_lens = read_fasta('/Users/samsonweiner/Desktop/Hippo/reference/hg38-chroms/chr20.fa')\n",
    "#ref, chrom_lens = read_fasta('/Users/samsonweiner/Desktop/Hippo/data/chr20_subset1.fa')"
   ]
  },
  {
   "cell_type": "code",
   "execution_count": 5,
   "metadata": {},
   "outputs": [
    {
     "name": "stdout",
     "output_type": "stream",
     "text": [
      "chr20 1000000\n"
     ]
    }
   ],
   "source": [
    "for i,v in chrom_lens.items():\n",
    "    print(i, v)"
   ]
  },
  {
   "cell_type": "code",
   "execution_count": 15,
   "metadata": {},
   "outputs": [],
   "source": [
    "regions = {}\n",
    "min_cn_length = 1000\n",
    "for chrom in ref.keys():\n",
    "    regions[chrom] = list(map(''.join, zip(*[iter(ref[chrom])]*min_cn_length)))\n",
    "    r = len(ref[chrom]) % min_cn_length\n",
    "    extra = ref[chrom][len(ref[chrom]) - r:]\n",
    "    regions[chrom][-1] = regions[chrom][-1] + extra"
   ]
  },
  {
   "cell_type": "code",
   "execution_count": 22,
   "metadata": {},
   "outputs": [
    {
     "name": "stdout",
     "output_type": "stream",
     "text": [
      "<class 'Bio.Seq.Seq'>\n"
     ]
    }
   ],
   "source": [
    "print(type(ref['chr20']))"
   ]
  },
  {
   "cell_type": "code",
   "execution_count": 1,
   "metadata": {},
   "outputs": [],
   "source": [
    "from pyfaidx import Fasta\n",
    "from sequence import *\n",
    "from reads import *"
   ]
  },
  {
   "cell_type": "code",
   "execution_count": 2,
   "metadata": {},
   "outputs": [],
   "source": [
    "genome = {}\n",
    "genome['chr20'] = [[], []]\n",
    "genome['chr20'][0] = [i for i in range(1000)]\n",
    "\n",
    "genome['chr20'][0] = genome['chr20'][0][:300] + 2*genome['chr20'][0][200:300] + genome['chr20'][0][300:]"
   ]
  },
  {
   "cell_type": "code",
   "execution_count": 3,
   "metadata": {},
   "outputs": [],
   "source": [
    "ref, chrom_lens = read_fasta('/Users/samsonweiner/Desktop/Hippo/data/chr20_subset1.fa')\n",
    "#ref_name = build_cell_ref(genome, ref, 1000, 0, 'cell1')"
   ]
  },
  {
   "cell_type": "code",
   "execution_count": 4,
   "metadata": {},
   "outputs": [],
   "source": [
    "[Aa, Bb] = get_alpha_beta(0.5, 0.28)"
   ]
  },
  {
   "cell_type": "code",
   "execution_count": 5,
   "metadata": {},
   "outputs": [],
   "source": [
    "from tree import Node\n",
    "\n",
    "c = Node(name='cell1')\n",
    "c.genome = genome"
   ]
  },
  {
   "cell_type": "code",
   "execution_count": 6,
   "metadata": {},
   "outputs": [
    {
     "ename": "FileNotFoundError",
     "evalue": "[Errno 2] No such file or directory: 'dwgsim': 'dwgsim'",
     "output_type": "error",
     "traceback": [
      "\u001b[0;31m---------------------------------------------------------------------------\u001b[0m",
      "\u001b[0;31mFileNotFoundError\u001b[0m                         Traceback (most recent call last)",
      "\u001b[0;32m/var/folders/w1/jgqg76sx7qg2zy6dvqs_2gkh0000gn/T/ipykernel_15885/999616195.py\u001b[0m in \u001b[0;36m<module>\u001b[0;34m\u001b[0m\n\u001b[0;32m----> 1\u001b[0;31m \u001b[0mgen_reads_cell\u001b[0m\u001b[0;34m(\u001b[0m\u001b[0mc\u001b[0m\u001b[0;34m,\u001b[0m \u001b[0mref\u001b[0m\u001b[0;34m,\u001b[0m \u001b[0;34m[\u001b[0m\u001b[0;34m'chr20'\u001b[0m\u001b[0;34m]\u001b[0m\u001b[0;34m,\u001b[0m \u001b[0;36m1000\u001b[0m\u001b[0;34m,\u001b[0m \u001b[0;36m100000\u001b[0m\u001b[0;34m,\u001b[0m \u001b[0;36m3\u001b[0m\u001b[0;34m,\u001b[0m \u001b[0mAa\u001b[0m\u001b[0;34m,\u001b[0m \u001b[0mBb\u001b[0m\u001b[0;34m,\u001b[0m \u001b[0;36m0.5\u001b[0m\u001b[0;34m,\u001b[0m \u001b[0;36m35\u001b[0m\u001b[0;34m)\u001b[0m\u001b[0;34m\u001b[0m\u001b[0;34m\u001b[0m\u001b[0m\n\u001b[0m",
      "\u001b[0;32m~/Desktop/RESEARCH/Tumor_Phylogeny/Tumor-Phylogeny-Reconstruction/simulator/reads.py\u001b[0m in \u001b[0;36mgen_reads_cell\u001b[0;34m(cell, ref, chrom_names, min_cn_len, window_size, interval, Aa, Bb, coverage, readlen)\u001b[0m\n\u001b[1;32m    125\u001b[0m                 \u001b[0mf\u001b[0m\u001b[0;34m.\u001b[0m\u001b[0mclose\u001b[0m\u001b[0;34m(\u001b[0m\u001b[0;34m)\u001b[0m\u001b[0;34m\u001b[0m\u001b[0;34m\u001b[0m\u001b[0m\n\u001b[1;32m    126\u001b[0m \u001b[0;34m\u001b[0m\u001b[0m\n\u001b[0;32m--> 127\u001b[0;31m                 \u001b[0mproc\u001b[0m \u001b[0;34m=\u001b[0m \u001b[0msubprocess\u001b[0m\u001b[0;34m.\u001b[0m\u001b[0mrun\u001b[0m\u001b[0;34m(\u001b[0m\u001b[0;34m[\u001b[0m\u001b[0;34m'dwgsim'\u001b[0m\u001b[0;34m,\u001b[0m \u001b[0;34m'-h'\u001b[0m\u001b[0;34m,\u001b[0m \u001b[0;34m'-o'\u001b[0m\u001b[0;34m,\u001b[0m \u001b[0;34m'1'\u001b[0m\u001b[0;34m,\u001b[0m \u001b[0;34m'-N'\u001b[0m\u001b[0;34m,\u001b[0m \u001b[0mstr\u001b[0m\u001b[0;34m(\u001b[0m\u001b[0mreadcounts\u001b[0m\u001b[0;34m[\u001b[0m\u001b[0mw\u001b[0m\u001b[0;34m]\u001b[0m\u001b[0;34m)\u001b[0m\u001b[0;34m,\u001b[0m \u001b[0;34m'-1'\u001b[0m\u001b[0;34m,\u001b[0m \u001b[0mstr\u001b[0m\u001b[0;34m(\u001b[0m\u001b[0mreadlen\u001b[0m\u001b[0;34m)\u001b[0m\u001b[0;34m,\u001b[0m \u001b[0;34m'-2'\u001b[0m\u001b[0;34m,\u001b[0m \u001b[0mstr\u001b[0m\u001b[0;34m(\u001b[0m\u001b[0mreadlen\u001b[0m\u001b[0;34m)\u001b[0m\u001b[0;34m,\u001b[0m \u001b[0mregion_fa_path\u001b[0m\u001b[0;34m,\u001b[0m \u001b[0mregion_fa_path\u001b[0m\u001b[0;34m[\u001b[0m\u001b[0;34m:\u001b[0m\u001b[0;34m-\u001b[0m\u001b[0;36m3\u001b[0m\u001b[0;34m]\u001b[0m\u001b[0;34m]\u001b[0m\u001b[0;34m)\u001b[0m\u001b[0;34m\u001b[0m\u001b[0;34m\u001b[0m\u001b[0m\n\u001b[0m\u001b[1;32m    128\u001b[0m                 \u001b[0;32mif\u001b[0m \u001b[0;32mnot\u001b[0m \u001b[0minit\u001b[0m\u001b[0;34m:\u001b[0m\u001b[0;34m\u001b[0m\u001b[0;34m\u001b[0m\u001b[0m\n\u001b[1;32m    129\u001b[0m                     \u001b[0mos\u001b[0m\u001b[0;34m.\u001b[0m\u001b[0mrename\u001b[0m\u001b[0;34m(\u001b[0m\u001b[0mregion_fa_path\u001b[0m\u001b[0;34m[\u001b[0m\u001b[0;34m:\u001b[0m\u001b[0;34m-\u001b[0m\u001b[0;36m3\u001b[0m\u001b[0;34m]\u001b[0m \u001b[0;34m+\u001b[0m \u001b[0;34m'.bwa.read1.fastq.gz'\u001b[0m\u001b[0;34m,\u001b[0m \u001b[0mcell_ref\u001b[0m\u001b[0;34m[\u001b[0m\u001b[0;34m:\u001b[0m\u001b[0;34m-\u001b[0m\u001b[0;36m3\u001b[0m\u001b[0;34m]\u001b[0m \u001b[0;34m+\u001b[0m \u001b[0;34m'.read1.fastq.gz'\u001b[0m\u001b[0;34m)\u001b[0m\u001b[0;34m\u001b[0m\u001b[0;34m\u001b[0m\u001b[0m\n",
      "\u001b[0;32m~/opt/anaconda3/lib/python3.7/subprocess.py\u001b[0m in \u001b[0;36mrun\u001b[0;34m(input, capture_output, timeout, check, *popenargs, **kwargs)\u001b[0m\n\u001b[1;32m    486\u001b[0m         \u001b[0mkwargs\u001b[0m\u001b[0;34m[\u001b[0m\u001b[0;34m'stderr'\u001b[0m\u001b[0;34m]\u001b[0m \u001b[0;34m=\u001b[0m \u001b[0mPIPE\u001b[0m\u001b[0;34m\u001b[0m\u001b[0;34m\u001b[0m\u001b[0m\n\u001b[1;32m    487\u001b[0m \u001b[0;34m\u001b[0m\u001b[0m\n\u001b[0;32m--> 488\u001b[0;31m     \u001b[0;32mwith\u001b[0m \u001b[0mPopen\u001b[0m\u001b[0;34m(\u001b[0m\u001b[0;34m*\u001b[0m\u001b[0mpopenargs\u001b[0m\u001b[0;34m,\u001b[0m \u001b[0;34m**\u001b[0m\u001b[0mkwargs\u001b[0m\u001b[0;34m)\u001b[0m \u001b[0;32mas\u001b[0m \u001b[0mprocess\u001b[0m\u001b[0;34m:\u001b[0m\u001b[0;34m\u001b[0m\u001b[0;34m\u001b[0m\u001b[0m\n\u001b[0m\u001b[1;32m    489\u001b[0m         \u001b[0;32mtry\u001b[0m\u001b[0;34m:\u001b[0m\u001b[0;34m\u001b[0m\u001b[0;34m\u001b[0m\u001b[0m\n\u001b[1;32m    490\u001b[0m             \u001b[0mstdout\u001b[0m\u001b[0;34m,\u001b[0m \u001b[0mstderr\u001b[0m \u001b[0;34m=\u001b[0m \u001b[0mprocess\u001b[0m\u001b[0;34m.\u001b[0m\u001b[0mcommunicate\u001b[0m\u001b[0;34m(\u001b[0m\u001b[0minput\u001b[0m\u001b[0;34m,\u001b[0m \u001b[0mtimeout\u001b[0m\u001b[0;34m=\u001b[0m\u001b[0mtimeout\u001b[0m\u001b[0;34m)\u001b[0m\u001b[0;34m\u001b[0m\u001b[0;34m\u001b[0m\u001b[0m\n",
      "\u001b[0;32m~/opt/anaconda3/lib/python3.7/subprocess.py\u001b[0m in \u001b[0;36m__init__\u001b[0;34m(self, args, bufsize, executable, stdin, stdout, stderr, preexec_fn, close_fds, shell, cwd, env, universal_newlines, startupinfo, creationflags, restore_signals, start_new_session, pass_fds, encoding, errors, text)\u001b[0m\n\u001b[1;32m    798\u001b[0m                                 \u001b[0mc2pread\u001b[0m\u001b[0;34m,\u001b[0m \u001b[0mc2pwrite\u001b[0m\u001b[0;34m,\u001b[0m\u001b[0;34m\u001b[0m\u001b[0;34m\u001b[0m\u001b[0m\n\u001b[1;32m    799\u001b[0m                                 \u001b[0merrread\u001b[0m\u001b[0;34m,\u001b[0m \u001b[0merrwrite\u001b[0m\u001b[0;34m,\u001b[0m\u001b[0;34m\u001b[0m\u001b[0;34m\u001b[0m\u001b[0m\n\u001b[0;32m--> 800\u001b[0;31m                                 restore_signals, start_new_session)\n\u001b[0m\u001b[1;32m    801\u001b[0m         \u001b[0;32mexcept\u001b[0m\u001b[0;34m:\u001b[0m\u001b[0;34m\u001b[0m\u001b[0;34m\u001b[0m\u001b[0m\n\u001b[1;32m    802\u001b[0m             \u001b[0;31m# Cleanup if the child failed starting.\u001b[0m\u001b[0;34m\u001b[0m\u001b[0;34m\u001b[0m\u001b[0;34m\u001b[0m\u001b[0m\n",
      "\u001b[0;32m~/opt/anaconda3/lib/python3.7/subprocess.py\u001b[0m in \u001b[0;36m_execute_child\u001b[0;34m(self, args, executable, preexec_fn, close_fds, pass_fds, cwd, env, startupinfo, creationflags, shell, p2cread, p2cwrite, c2pread, c2pwrite, errread, errwrite, restore_signals, start_new_session)\u001b[0m\n\u001b[1;32m   1549\u001b[0m                         \u001b[0;32mif\u001b[0m \u001b[0merrno_num\u001b[0m \u001b[0;34m==\u001b[0m \u001b[0merrno\u001b[0m\u001b[0;34m.\u001b[0m\u001b[0mENOENT\u001b[0m\u001b[0;34m:\u001b[0m\u001b[0;34m\u001b[0m\u001b[0;34m\u001b[0m\u001b[0m\n\u001b[1;32m   1550\u001b[0m                             \u001b[0merr_msg\u001b[0m \u001b[0;34m+=\u001b[0m \u001b[0;34m': '\u001b[0m \u001b[0;34m+\u001b[0m \u001b[0mrepr\u001b[0m\u001b[0;34m(\u001b[0m\u001b[0merr_filename\u001b[0m\u001b[0;34m)\u001b[0m\u001b[0;34m\u001b[0m\u001b[0;34m\u001b[0m\u001b[0m\n\u001b[0;32m-> 1551\u001b[0;31m                     \u001b[0;32mraise\u001b[0m \u001b[0mchild_exception_type\u001b[0m\u001b[0;34m(\u001b[0m\u001b[0merrno_num\u001b[0m\u001b[0;34m,\u001b[0m \u001b[0merr_msg\u001b[0m\u001b[0;34m,\u001b[0m \u001b[0merr_filename\u001b[0m\u001b[0;34m)\u001b[0m\u001b[0;34m\u001b[0m\u001b[0;34m\u001b[0m\u001b[0m\n\u001b[0m\u001b[1;32m   1552\u001b[0m                 \u001b[0;32mraise\u001b[0m \u001b[0mchild_exception_type\u001b[0m\u001b[0;34m(\u001b[0m\u001b[0merr_msg\u001b[0m\u001b[0;34m)\u001b[0m\u001b[0;34m\u001b[0m\u001b[0;34m\u001b[0m\u001b[0m\n\u001b[1;32m   1553\u001b[0m \u001b[0;34m\u001b[0m\u001b[0m\n",
      "\u001b[0;31mFileNotFoundError\u001b[0m: [Errno 2] No such file or directory: 'dwgsim': 'dwgsim'"
     ]
    }
   ],
   "source": [
    "gen_reads_cell(c, ref, ['chr20'], 1000, 100000, 3, Aa, Bb, 0.5, 35)"
   ]
  }
 ],
 "metadata": {
  "kernelspec": {
   "display_name": "Python 3.7.12 ('base')",
   "language": "python",
   "name": "python3"
  },
  "language_info": {
   "codemirror_mode": {
    "name": "ipython",
    "version": 3
   },
   "file_extension": ".py",
   "mimetype": "text/x-python",
   "name": "python",
   "nbconvert_exporter": "python",
   "pygments_lexer": "ipython3",
   "version": "3.7.12"
  },
  "orig_nbformat": 4,
  "vscode": {
   "interpreter": {
    "hash": "773222f27068e2e4d4101b54fcc4627fb86b5a4591044e309acc2fe4a75e6810"
   }
  }
 },
 "nbformat": 4,
 "nbformat_minor": 2
}
